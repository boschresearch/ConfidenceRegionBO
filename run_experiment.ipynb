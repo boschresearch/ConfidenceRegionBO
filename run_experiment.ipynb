{
 "cells": [
  {
   "cell_type": "code",
   "execution_count": null,
   "metadata": {},
   "outputs": [],
   "source": [
    "import warnings; warnings.simplefilter('ignore')\n",
    "import tensorflow as tf\n",
    "tf.logging.set_verbosity(tf.logging.ERROR)\n",
    "\n",
    "import matplotlib.pyplot as plt\n",
    "import numpy as np\n",
    "\n",
    "from scipy.optimize import Bounds\n",
    "\n",
    "from crbo import ConfidenceRegionBayesianOptimization\n",
    "from crbo.objectives import CartPoleObjective\n",
    "from crbo import util\n",
    "\n",
    "np.random.seed(42)\n"
   ]
  },
  {
   "cell_type": "code",
   "execution_count": null,
   "metadata": {},
   "outputs": [],
   "source": [
    "\n",
    "# Values for the policy domain size can be found in the Appendix\n",
    "objective = CartPoleObjective(policy_domain_size=10.0)\n",
    "bounds = Bounds(lb=objective.lb, ub=objective.ub)\n",
    "\n",
    "# Start with one initial point in the domain's center\n",
    "x_init = np.atleast_2d((objective.lb + objective.ub) / 2)\n",
    "\n",
    "# Sample more points for the initial design if the objective has higher dimensionality\n",
    "n_init = int(np.ceil(np.sqrt(objective.dim)))\n",
    "\n",
    "# Set GP hyperparameters to reasonable values\n",
    "init_hypers = {\"lengthscale\": 0.1, \"variance\": 1.0 ** 2, \"noise_var\": 0.05 ** 2}\n",
    "\n",
    "# Set up Conf Region BO\n",
    "bo = ConfidenceRegionBayesianOptimization(\n",
    "    fun=objective,\n",
    "    gamma = 0.6,\n",
    "    acq_type=\"lcb\",\n",
    "    max_iter=100 - n_init,\n",
    "    bounds=bounds,\n",
    "    x_init=x_init,\n",
    "    n_init=n_init,\n",
    "    verbosity=True,\n",
    "    optimize_hypers=True,\n",
    "    init_hypers=init_hypers,\n",
    "    normalizer_type=\"optimistic\"\n",
    ")\n"
   ]
  },
  {
   "cell_type": "code",
   "execution_count": null,
   "metadata": {},
   "outputs": [],
   "source": [
    "# Let's go\n",
    "model, results = bo.run()"
   ]
  },
  {
   "cell_type": "code",
   "execution_count": null,
   "metadata": {},
   "outputs": [],
   "source": [
    "# Predict outcome of GP model at evaluated locations\n",
    "x_eval = np.array(results[\"x_eval\"])\n",
    "x_eval_normalized = util.normalize_input(x_eval, bounds)\n",
    "mu_eval = util.denormalize_output(model.predict(x_eval_normalized)[0], bo.norm_mu, bo.norm_std)\n",
    "mu_eval *= -1.0  # CRBO minimizes the objective, thus flip values for visualization\n",
    "y_eval = -1.0 * np.array(results[\"y_eval\"])\n",
    "\n",
    "# Best policy is the one with highest predictive mean at all evaluated locations\n",
    "best_idx = np.argmax(mu_eval)\n",
    "x_opt = x_eval[best_idx]\n",
    "\n",
    "# Evaluate initial and final policy\n",
    "y_opt = -1 * objective(np.tile(x_opt, [20, 1]))\n",
    "y_init = -1 * objective(np.tile(x_init, [20, 1]))"
   ]
  },
  {
   "cell_type": "code",
   "execution_count": null,
   "metadata": {},
   "outputs": [],
   "source": [
    "# Visualize some of the results\n",
    "plt.figure(figsize=(15, 5))\n",
    "plt.subplot(131)\n",
    "plt.title(\"Outcome of evaluated policies\")\n",
    "plt.plot(y_eval, label=\"Observed returns\")\n",
    "plt.plot(mu_eval, label=\"GP mean at observed locations\")\n",
    "plt.xlabel(\"# Episodes\")\n",
    "plt.ylabel(\"Episodic return\")\n",
    "plt.legend()\n",
    "plt.subplot(132)\n",
    "avg_reward = np.cumsum(y_eval).squeeze() / (np.arange(y_eval.shape[0]) + 1)\n",
    "plt.plot(avg_reward, label=\"CRBO\")\n",
    "plt.xlabel(\"# Episodes\")\n",
    "plt.ylabel(\"Average Episodic return\")\n",
    "plt.legend()\n",
    "plt.subplot(133)\n",
    "bins = np.linspace(0.0, 1.0, 20)\n",
    "plt.hist(y_init, bins=bins, label=\"Initial policy\")\n",
    "plt.hist(y_opt, bins=bins, label=\"Optimized policy\")\n",
    "plt.xlabel(\"Episodic return\")\n",
    "plt.legend()\n"
   ]
  },
  {
   "cell_type": "code",
   "execution_count": null,
   "metadata": {},
   "outputs": [],
   "source": []
  }
 ],
 "metadata": {
  "kernelspec": {
   "display_name": "Python 3",
   "language": "python",
   "name": "python3"
  },
  "language_info": {
   "codemirror_mode": {
    "name": "ipython",
    "version": 3
   },
   "file_extension": ".py",
   "mimetype": "text/x-python",
   "name": "python",
   "nbconvert_exporter": "python",
   "pygments_lexer": "ipython3",
   "version": "3.7.8"
  }
 },
 "nbformat": 4,
 "nbformat_minor": 2
}
